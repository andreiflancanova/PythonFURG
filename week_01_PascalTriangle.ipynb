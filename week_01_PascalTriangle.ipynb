{
 "cells": [
  {
   "cell_type": "code",
   "execution_count": 5,
   "id": "e29606e9-a365-4c47-9fea-c4a2db147e14",
   "metadata": {},
   "outputs": [
    {
     "name": "stdin",
     "output_type": "stream",
     "text": [
      "Insert the value of n:  7\n"
     ]
    },
    {
     "name": "stdout",
     "output_type": "stream",
     "text": [
      "[1]\n",
      "[1, 1]\n",
      "[1, 2, 1]\n",
      "[1, 3, 3, 1]\n",
      "[1, 4, 6, 4, 1]\n",
      "[1, 5, 10, 10, 5, 1]\n",
      "[1, 6, 15, 20, 15, 6, 1]\n"
     ]
    }
   ],
   "source": [
    "v=[1]\n",
    "n_row=int(input('Insert the value of n: '))\n",
    "\n",
    "#Runs along the lines\n",
    "for i in range(n_row):\n",
    "    print(v)\n",
    "    v.append(0)\n",
    "    \n",
    "\n",
    "    w=[1]\n",
    "    #Runs along the columns\n",
    "    for j in range(len(v)):\n",
    "        if j>0:\n",
    "            w.append(v[j-1]+v[j])\n",
    "    v=w\n"
   ]
  },
  {
   "cell_type": "code",
   "execution_count": null,
   "id": "51dd2b38-ad61-48eb-9f9b-810097e0b70d",
   "metadata": {},
   "outputs": [],
   "source": []
  }
 ],
 "metadata": {
  "kernelspec": {
   "display_name": "Python 3 (ipykernel)",
   "language": "python",
   "name": "python3"
  },
  "language_info": {
   "codemirror_mode": {
    "name": "ipython",
    "version": 3
   },
   "file_extension": ".py",
   "mimetype": "text/x-python",
   "name": "python",
   "nbconvert_exporter": "python",
   "pygments_lexer": "ipython3",
   "version": "3.8.5"
  }
 },
 "nbformat": 4,
 "nbformat_minor": 5
}
