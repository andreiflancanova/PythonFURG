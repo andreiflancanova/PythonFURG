{
 "cells": [
  {
   "cell_type": "markdown",
   "id": "51b4fa8c",
   "metadata": {},
   "source": [
    "# Tópico 06 - Condicionais"
   ]
  },
  {
   "cell_type": "code",
   "execution_count": 1,
   "id": "b8b8b13c",
   "metadata": {},
   "outputs": [
    {
     "name": "stdout",
     "output_type": "stream",
     "text": [
      "Qual a sua idade? -24\n",
      "Erro: digite uma idade válida (Entre 0 e 122): 24\n",
      "Você já pode dirigir.\n"
     ]
    }
   ],
   "source": [
    "idade=int(input(\"Qual a sua idade? \"))\n",
    "while idade<=0 or idade >=122:\n",
    "    idade=int(input(\"Erro: digite uma idade válida (Entre 0 e 122): \"))\n",
    "if (idade<18):\n",
    "    print(\"Você ainda não pode dirigir.\")\n",
    "else:\n",
    "    print(\"Você já pode dirigir.\")"
   ]
  },
  {
   "cell_type": "markdown",
   "id": "ae5ef29b",
   "metadata": {},
   "source": [
    "<div class = \"alert alert-block alert-info\">\n",
    "    <b>\n",
    "        Com base nos resultados obtidos com os exercícios acima,\n",
    "    responda o que faz o comando \"if\"? E quando existe um \"else\",\n",
    "    qual o comportamento? E se houver um \"elif\"?\n",
    "    </b>             \n",
    "</div>\n",
    "\n",
    "<div class = \"alert alert-block alert-success\">\n",
    "    <b>\n",
    "    Resposta:A cláusula \"if\" é responsável por verificar se uma determinada\n",
    "    condição é satisfeita,quer seja para uma ou mesmo para um \n",
    "    conjunto de variáveis. A cláusula \"elif\" vem de \"else if\" e tem a \n",
    "    finalidade de verificar outras condições que não as já verificadas\n",
    "    no \"if\".Já a cláusula \"else\" é a prescrição do comportamento esperado\n",
    "    para o caso das condições verificadas pelo \"if\" e pelos \"elif\" não \n",
    "    terem sido satisfeitas. É importante frisar que em uma estrutra encadeada\n",
    "    deste tipo, se o código executa o trecho que está dentro do \"if\", este não\n",
    "    executará os demais trechos presentes nos \"elif\" ou mesmo no \"else\".\n",
    "    </b>             \n",
    "</div>\n"
   ]
  },
  {
   "cell_type": "markdown",
   "id": "d15cda84",
   "metadata": {},
   "source": [
    "<div class = \"alert alert-block alert-warning\">\n",
    "    <b>\n",
    "        Faça um programa que leia 2 notas de um aluno em uma disciplina, calcule a média e imprima aprovado ou reprovado (para ser aprovado a média deve ser no mínimo 7)\n",
    "    </b>             \n",
    "</div>\n"
   ]
  },
  {
   "cell_type": "code",
   "execution_count": 15,
   "id": "cf9bff07",
   "metadata": {},
   "outputs": [
    {
     "name": "stdout",
     "output_type": "stream",
     "text": [
      "Informe o número de notas que há em sua instituição de ensino (sem o exame):4\n",
      "Informe a nota da avaliação 1: 5\n",
      "Informe a nota da avaliação 2: 6\n",
      "Informe a nota da avaliação 3: 7\n",
      "Informe a nota da avaliação 4: 8\n",
      "Informe a nota do exame: 10\n",
      "Parabéns! Você foi aprovado no exame com média 8.25!\n"
     ]
    }
   ],
   "source": [
    "num_notas = int(input('Informe o número de notas que há em sua instituição de ensino (sem o exame):'))\n",
    "notas = []\n",
    "for i in range(num_notas):\n",
    "    nota = float(input(f'Informe a nota da avaliação {i+1}: '))\n",
    "    while(nota<0 or nota>10):\n",
    "        nota = float(input(f'Informe uma nota válida (entre 0 e 10) da avaliação {i+1}: '))\n",
    "    notas.append(nota)\n",
    "media_original = sum(notas)/len(notas)\n",
    "\n",
    "if(media_original>=7):\n",
    "    print(f'Parabéns! Você foi aprovado com média {media_original}')\n",
    "else:\n",
    "    nota_exame = float(input('Informe a nota do exame: '))\n",
    "    media_com_exame = (media_original+nota_exame)/2\n",
    "    if(media_com_exame>=5):\n",
    "        print(f'Parabéns! Você foi aprovado no exame com média {media_com_exame}!')\n",
    "    else:\n",
    "        print('Infelizmente, dessa vez você foi reprovado...')\n",
    "                     \n"
   ]
  },
  {
   "cell_type": "code",
   "execution_count": null,
   "id": "84d937e5",
   "metadata": {},
   "outputs": [],
   "source": []
  }
 ],
 "metadata": {
  "kernelspec": {
   "display_name": "Python 3 (ipykernel)",
   "language": "python",
   "name": "python3"
  },
  "language_info": {
   "codemirror_mode": {
    "name": "ipython",
    "version": 3
   },
   "file_extension": ".py",
   "mimetype": "text/x-python",
   "name": "python",
   "nbconvert_exporter": "python",
   "pygments_lexer": "ipython3",
   "version": "3.10.8"
  }
 },
 "nbformat": 4,
 "nbformat_minor": 5
}
