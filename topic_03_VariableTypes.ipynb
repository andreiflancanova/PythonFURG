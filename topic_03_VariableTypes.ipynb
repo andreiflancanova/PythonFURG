{
 "cells": [
  {
   "cell_type": "code",
   "execution_count": 36,
   "id": "856df39b",
   "metadata": {},
   "outputs": [],
   "source": [
    "#Função geradora de respostas\n",
    "def printvt(v):\n",
    "    if type(v) is int or type(v) is float:\n",
    "        print(\"O valor da variável é %5.2f e o seu tipo é %s\" % (v,type(v)))\n",
    "    else:\n",
    "        print(\"O valor da variável é\", v, \"e o seu tipo é\",type(v))\n",
    "    "
   ]
  },
  {
   "cell_type": "code",
   "execution_count": 37,
   "id": "35e33d99",
   "metadata": {},
   "outputs": [
    {
     "name": "stdout",
     "output_type": "stream",
     "text": [
      "O valor da variável é 15.00 e o seu tipo é <class 'int'>\n"
     ]
    }
   ],
   "source": [
    "#Programa 01\n",
    "a=5\n",
    "b=10\n",
    "c=a+b\n",
    "printvt(c)"
   ]
  },
  {
   "cell_type": "code",
   "execution_count": 38,
   "id": "fbd8a6f8",
   "metadata": {},
   "outputs": [
    {
     "name": "stdout",
     "output_type": "stream",
     "text": [
      "O valor da variável é  2.10 e o seu tipo é <class 'float'>\n"
     ]
    }
   ],
   "source": [
    "#Programa 02:\n",
    "a=6.2\n",
    "b=4.1\n",
    "c=a-b\n",
    "printvt(c)"
   ]
  },
  {
   "cell_type": "code",
   "execution_count": 39,
   "id": "76dcaa8b",
   "metadata": {},
   "outputs": [
    {
     "name": "stdout",
     "output_type": "stream",
     "text": [
      "O valor da variável é Modelagem Computacional e o seu tipo é <class 'str'>\n"
     ]
    }
   ],
   "source": [
    "#Programa 03:\n",
    "a=\"Modelagem \"\n",
    "b=\"Computacional\"\n",
    "c=a+b\n",
    "printvt(c)"
   ]
  },
  {
   "cell_type": "code",
   "execution_count": 40,
   "id": "05f4023c",
   "metadata": {},
   "outputs": [
    {
     "name": "stdout",
     "output_type": "stream",
     "text": [
      "O valor da variável é [5, 7, 11] e o seu tipo é <class 'list'>\n"
     ]
    }
   ],
   "source": [
    "#Programa 04:     \n",
    "a=[]\n",
    "a.append(5)\n",
    "a.append(7)\n",
    "a.append(11)\n",
    "printvt(a)"
   ]
  },
  {
   "cell_type": "code",
   "execution_count": 41,
   "id": "1bbbcf78",
   "metadata": {},
   "outputs": [
    {
     "name": "stdout",
     "output_type": "stream",
     "text": [
      "O valor da variável é True e o seu tipo é <class 'bool'>\n"
     ]
    }
   ],
   "source": [
    "#Programa 05:\n",
    "a=3\n",
    "b=a>4\n",
    "c=b or True\n",
    "printvt(c)"
   ]
  }
 ],
 "metadata": {
  "kernelspec": {
   "display_name": "Python 3 (ipykernel)",
   "language": "python",
   "name": "python3"
  },
  "language_info": {
   "codemirror_mode": {
    "name": "ipython",
    "version": 3
   },
   "file_extension": ".py",
   "mimetype": "text/x-python",
   "name": "python",
   "nbconvert_exporter": "python",
   "pygments_lexer": "ipython3",
   "version": "3.10.7"
  }
 },
 "nbformat": 4,
 "nbformat_minor": 5
}
