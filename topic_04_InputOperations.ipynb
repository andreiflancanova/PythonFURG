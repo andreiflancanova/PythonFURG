{
 "cells": [
  {
   "cell_type": "code",
   "execution_count": 8,
   "id": "0416f591",
   "metadata": {},
   "outputs": [
    {
     "name": "stdout",
     "output_type": "stream",
     "text": [
      "Inform your salary, in US$: 1000\n",
      "Inform the correction rate, in %: 10\n",
      "Your corrected salary is US$ 1100.00.\n"
     ]
    }
   ],
   "source": [
    "#Salary correction\n",
    "current_salary = float(input('Inform your salary, in US$: '))\n",
    "correction_rate = float(input('Inform the correction rate, in %: '))\n",
    "\n",
    "new_salary = current_salary * (1+0.01*correction_rate)\n",
    "\n",
    "print('Your corrected salary is US$ %5.2f.' % (new_salary))"
   ]
  },
  {
   "cell_type": "code",
   "execution_count": 7,
   "id": "45e035c0",
   "metadata": {
    "scrolled": true
   },
   "outputs": [
    {
     "name": "stdout",
     "output_type": "stream",
     "text": [
      "Insert your birth year: 1998\n",
      "Insert the current year: 2022\n",
      "Your age in December 31th of 2022 will be 24 years\n"
     ]
    }
   ],
   "source": [
    "#Age approximation\n",
    "birth_year = int(input(\"Insert your birth year: \"))\n",
    "current_year = int(input(\"Insert the current year: \"))\n",
    "\n",
    "approximated_age = current_year - birth_year\n",
    "print('Your age in December 31th of %d will be %d years.'%(current_year,approximated_age))"
   ]
  }
 ],
 "metadata": {
  "kernelspec": {
   "display_name": "Python 3 (ipykernel)",
   "language": "python",
   "name": "python3"
  },
  "language_info": {
   "codemirror_mode": {
    "name": "ipython",
    "version": 3
   },
   "file_extension": ".py",
   "mimetype": "text/x-python",
   "name": "python",
   "nbconvert_exporter": "python",
   "pygments_lexer": "ipython3",
   "version": "3.10.7"
  }
 },
 "nbformat": 4,
 "nbformat_minor": 5
}
