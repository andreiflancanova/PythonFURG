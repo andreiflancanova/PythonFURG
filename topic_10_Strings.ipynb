{
 "cells": [
  {
   "cell_type": "markdown",
   "id": "51b4fa8c",
   "metadata": {},
   "source": [
    "# Tópico 10 - Strings"
   ]
  },
  {
   "cell_type": "markdown",
   "id": "ae5ef29b",
   "metadata": {},
   "source": [
    "<div class = \"alert alert-block alert-info\">\n",
    "    <b>\n",
    "        1) Passe todos os caracteres para maiúsculas;\n",
    "    </b>             \n",
    "</div>"
   ]
  },
  {
   "cell_type": "code",
   "execution_count": 3,
   "id": "76a58810",
   "metadata": {},
   "outputs": [],
   "source": [
    "caminho_arquivo_origem = 'files/topic_09_original.txt'\n",
    "caminho_arquivo_saida = 'files/topic_09_maiusculo.txt'\n",
    "with open(caminho_arquivo_origem,'r',encoding = 'utf-8') as arquivo_origem:\n",
    "    texto_original = arquivo_origem.read()\n",
    "    texto_maiusculo = texto_original.upper()\n",
    "    with open(caminho_arquivo_saida,'a',encoding = 'utf-8') as arquivo_saida:\n",
    "        arquivo_saida.write(texto_maiusculo)"
   ]
  },
  {
   "cell_type": "markdown",
   "id": "2c021408",
   "metadata": {},
   "source": [
    "<div class = \"alert alert-block alert-info\">\n",
    "    <b>\n",
    "       2) Elimine todos os símbolos e algarismos;\n",
    "    </b>             \n",
    "</div>"
   ]
  },
  {
   "cell_type": "code",
   "execution_count": 17,
   "id": "d06018df",
   "metadata": {},
   "outputs": [],
   "source": [
    "caminho_arquivo_origem = 'files/topic_09_original.txt'\n",
    "caminho_arquivo_saida = 'files/topic_09_no_symbol.txt'\n",
    "\n",
    "with open(caminho_arquivo_origem,'r',encoding = 'utf-8') as arquivo_origem:\n",
    "    texto_original = arquivo_origem.read()\n",
    "    simbolos ='\"?,.'\n",
    "    \n",
    "    for i in range(len(simbolos)):\n",
    "        texto_original = texto_original.replace(simbolos[i],\"\")\n",
    "        texto_limpo = texto_original\n",
    "    with open(caminho_arquivo_saida,'a',encoding = 'utf-8') as arquivo_saida:\n",
    "        arquivo_saida.write(texto_limpo)"
   ]
  },
  {
   "cell_type": "markdown",
   "id": "17844fc5",
   "metadata": {},
   "source": [
    "<div class = \"alert alert-block alert-info\">\n",
    "    <b>\n",
    "        3) Gere uma lista contendo todas as palavras da string;\n",
    "    </b>             \n",
    "</div>"
   ]
  },
  {
   "cell_type": "code",
   "execution_count": 46,
   "id": "5692e21d",
   "metadata": {},
   "outputs": [],
   "source": [
    "def gerar_lista_palavras(caminho_arquivo_origem):\n",
    "    with open(caminho_arquivo_origem,'r',encoding = 'utf-8') as arquivo_origem:\n",
    "        texto_original = arquivo_origem.read()\n",
    "        lista_palavras_repetidas = texto_original.lower().split()\n",
    "        return lista_palavras_repetidas\n",
    "def remover_palavras_repetidas_lista(lista_palavras_repetidas, caminho_arquivo_saida):\n",
    "        lista_palavras = []\n",
    "        for palavra in lista_palavras_repetidas:\n",
    "            if palavra not in lista_palavras:\n",
    "                lista_palavras.append(palavra)\n",
    "        with open(caminho_arquivo_saida,'a',encoding = 'utf-8') as arquivo_saida:\n",
    "            arquivo_saida.write(str(lista_palavras))\n",
    "        return lista_palavras\n",
    "lista_palavras_repetidas = gerar_lista_palavras(caminho_arquivo_origem = 'files/topic_09_no_symbol.txt')\n",
    "#remover_palavras_repetidas_lista(lista_palavras_repetidas, 'files/topic_09_word_list.txt')"
   ]
  },
  {
   "cell_type": "markdown",
   "id": "8433175a",
   "metadata": {},
   "source": [
    "<div class = \"alert alert-block alert-info\">\n",
    "    <b>\n",
    "        4) Conte o número de ocorrências de cada palavra no texto;\n",
    "    </b>             \n",
    "</div>"
   ]
  },
  {
   "cell_type": "code",
   "execution_count": 76,
   "id": "acb5b1b6",
   "metadata": {},
   "outputs": [],
   "source": [
    "def contar_ocorrencias(lista_palavras):\n",
    "    num_ocorrencias = []\n",
    "    for palavra in lista_palavras:\n",
    "        num_ocorrencias.append(lista_palavras.count(palavra))\n",
    "    return num_ocorrencias\n",
    "def gerar_tupla(lista_palavras,num_ocorrencias):  \n",
    "    return list(zip(lista_palavras,num_ocorrencias))\n",
    "lista_palavras_repetidas = gerar_lista_palavras('files/topic_09_no_symbol.txt')\n",
    "contagem_palavras = contar_ocorrencias(lista_palavras_repetidas)\n",
    "tupla_contagem = gerar_tupla(lista_palavras,num_ocorrencias)"
   ]
  },
  {
   "cell_type": "markdown",
   "id": "72ed2457",
   "metadata": {},
   "source": [
    "<div class = \"alert alert-block alert-info\">\n",
    "    <b>\n",
    "        5) Mostre na tela a palavra mais frequente e o número de ocorrências da mesma.\n",
    "    </b>             \n",
    "</div>"
   ]
  },
  {
   "cell_type": "code",
   "execution_count": 77,
   "id": "04bbd356",
   "metadata": {},
   "outputs": [
    {
     "name": "stdout",
     "output_type": "stream",
     "text": [
      "[3, 4, 1, 1, 1, 1, 1, 1, 3, 4, 1, 1, 1, 1, 1, 1, 1, 1, 1, 1, 1, 1, 1, 2, 1, 1, 1, 1, 1, 1, 1, 1, 2, 1, 4, 4, 2, 3, 1, 2, 1, 2, 1, 3, 4, 1, 1, 1, 1, 4, 1, 4, 1, 1, 1, 1, 1, 1, 4, 2, 1, 4, 1, 3, 1, 1, 1, 2, 3, 4, 1, 1, 1, 1, 1, 1, 4, 1, 2, 1, 1, 1, 1, 4, 4, 2, 1, 1, 1, 2, 1, 1, 1, 1, 1, 1, 1, 4, 1, 1, 2, 1, 2, 2, 1, 2, 2, 1, 1, 4, 1, 2, 1, 2, 1, 1, 1, 1, 2, 2, 1, 4, 2, 2, 1, 1, 2, 1, 1]\n"
     ]
    }
   ],
   "source": [
    "print(contagem_palavras)"
   ]
  },
  {
   "cell_type": "code",
   "execution_count": 80,
   "id": "21dabf5b",
   "metadata": {},
   "outputs": [
    {
     "name": "stdout",
     "output_type": "stream",
     "text": [
      "As palavras mais frequentes são['ut', 'voluptatem', 'quia', 'voluptas', 'qui', 'porro', 'est', 'velit', 'eius', 'quaerat', 'ullam', 'ea', 'commodi', 'illum'] e aparecem um total de 4 vezes\n"
     ]
    }
   ],
   "source": [
    "maior_num_ocorrencias = max(contagem_palavras)\n",
    "palavra_mais_frequente = [ c for c,r in tupla_contagem if r==maior_num_ocorrencias]\n",
    "print(f'As palavras mais frequentes são {palavra_mais_frequente} e aparecem um total de {maior_num_ocorrencias} vezes')"
   ]
  },
  {
   "cell_type": "code",
   "execution_count": null,
   "id": "ce7a84d8",
   "metadata": {},
   "outputs": [],
   "source": []
  }
 ],
 "metadata": {
  "kernelspec": {
   "display_name": "Python 3 (ipykernel)",
   "language": "python",
   "name": "python3"
  },
  "language_info": {
   "codemirror_mode": {
    "name": "ipython",
    "version": 3
   },
   "file_extension": ".py",
   "mimetype": "text/x-python",
   "name": "python",
   "nbconvert_exporter": "python",
   "pygments_lexer": "ipython3",
   "version": "3.10.8"
  }
 },
 "nbformat": 4,
 "nbformat_minor": 5
}
