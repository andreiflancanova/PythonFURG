{
 "cells": [
  {
   "cell_type": "markdown",
   "id": "51b4fa8c",
   "metadata": {},
   "source": [
    "# Tópico 08 - Estruturas de repetição"
   ]
  },
  {
   "cell_type": "markdown",
   "id": "ae5ef29b",
   "metadata": {},
   "source": [
    "<div class = \"alert alert-block alert-info\">\n",
    "    <b>\n",
    "        1) Escreva um programa para encontrar a soma S = 3 + 6 + 9 + …. + 333. \n",
    "    </b>             \n",
    "</div>"
   ]
  },
  {
   "cell_type": "code",
   "execution_count": 3,
   "id": "76a58810",
   "metadata": {},
   "outputs": [
    {
     "name": "stdout",
     "output_type": "stream",
     "text": [
      "Informe o termo k da sequência: 3\n",
      "Informe o termo n da sequência: 333\n",
      "Informe a razão da sequência: 3\n",
      "A soma dos termos calculado é S=18480.0\n"
     ]
    }
   ],
   "source": [
    "def soma_termos(ak,an,r):\n",
    "    s = 0\n",
    "    try:\n",
    "        num_termos = int((an-ak)/r)\n",
    "        s = (ak+an)*num_termos/2\n",
    "    except:\n",
    "        print('O número de termos não resultou inteiro. A soma não pode ser realizada.')        \n",
    "    return s\n",
    "\n",
    "ak = int(input('Informe o termo k da sequência: '))\n",
    "an = int(input('Informe o termo n da sequência: '))\n",
    "r = int(input('Informe a razão da sequência: '))\n",
    "\n",
    "s_calc = soma_termos(ak,an,r)\n",
    "print(f'A soma dos termos calculado é S={s_calc}')"
   ]
  },
  {
   "cell_type": "markdown",
   "id": "2c021408",
   "metadata": {},
   "source": [
    "<div class = \"alert alert-block alert-info\">\n",
    "    <b>\n",
    "       2) Escreva um programa que leia 10 notas (valores reais de 0 a 10) e informe a média das notas lidas. \n",
    "    </b>             \n",
    "</div>"
   ]
  },
  {
   "cell_type": "code",
   "execution_count": 6,
   "id": "d06018df",
   "metadata": {},
   "outputs": [
    {
     "name": "stdout",
     "output_type": "stream",
     "text": [
      "Informe o número de notas que há em sua instituição de ensino (sem o exame):10\n",
      "Informe a nota da avaliação 1: 5.6\n",
      "Informe a nota da avaliação 2: 6.3\n",
      "Informe a nota da avaliação 3: 7.1\n",
      "Informe a nota da avaliação 4: 7.4\n",
      "Informe a nota da avaliação 5: 7.8\n",
      "Informe a nota da avaliação 6: 8.3\n",
      "Informe a nota da avaliação 7: 8.7\n",
      "Informe a nota da avaliação 8: 9.4\n",
      "Informe a nota da avaliação 9: 9.8\n",
      "Informe a nota da avaliação 10: 10\n",
      "A média das 10 notas informadas é 8.04.\n"
     ]
    }
   ],
   "source": [
    "num_notas = int(input('Informe o número de notas que há em sua instituição de ensino (sem o exame):'))\n",
    "notas = []\n",
    "for i in range(num_notas):\n",
    "    nota = float(input(f'Informe a nota da avaliação {i+1}: '))\n",
    "    while(nota<0 or nota>10):\n",
    "        nota = float(input(f'Erro! Informe uma nota válida (entre 0 e 10) da avaliação {i+1}: '))\n",
    "    notas.append(nota)\n",
    "media_notas = sum(notas)/len(notas)\n",
    "print(f'A média das {num_notas} notas informadas é {media_notas:.2f}.')"
   ]
  },
  {
   "cell_type": "markdown",
   "id": "63db2fe1",
   "metadata": {},
   "source": [
    "<div class = \"alert alert-block alert-info\">\n",
    "    <b>\n",
    "        3) Escreva um programa que leia um número inteiro maior ou igual a 2 e menor ou igual a 9, e mostre a tabuada desse número.\n",
    "    </b>             \n",
    "</div>"
   ]
  },
  {
   "cell_type": "code",
   "execution_count": 9,
   "id": "74d87308",
   "metadata": {},
   "outputs": [
    {
     "name": "stdout",
     "output_type": "stream",
     "text": [
      "Informe o número desejado: 5\n",
      "A tabuada do número 5 é mostrada a seguir:\n",
      "5 x 1 = 5\n",
      "5 x 2 = 10\n",
      "5 x 3 = 15\n",
      "5 x 4 = 20\n",
      "5 x 5 = 25\n",
      "5 x 6 = 30\n",
      "5 x 7 = 35\n",
      "5 x 8 = 40\n",
      "5 x 9 = 45\n",
      "5 x 10 = 50\n"
     ]
    }
   ],
   "source": [
    "numero = int(input('Informe o número desejado: '))\n",
    "while(numero<2 or numero>9):\n",
    "    numero = int(input('Informe um número maior ou igual a 2 e menor ou igual a 9: '))\n",
    "print(f'A tabuada do número {numero} é mostrada a seguir:')\n",
    "for i in range(10):\n",
    "    valor = numero*(i+1)\n",
    "    print(f'{numero} x {i+1} = {valor}')\n",
    "    "
   ]
  },
  {
   "cell_type": "code",
   "execution_count": null,
   "id": "ee025688",
   "metadata": {},
   "outputs": [],
   "source": []
  }
 ],
 "metadata": {
  "kernelspec": {
   "display_name": "Python 3 (ipykernel)",
   "language": "python",
   "name": "python3"
  },
  "language_info": {
   "codemirror_mode": {
    "name": "ipython",
    "version": 3
   },
   "file_extension": ".py",
   "mimetype": "text/x-python",
   "name": "python",
   "nbconvert_exporter": "python",
   "pygments_lexer": "ipython3",
   "version": "3.10.8"
  }
 },
 "nbformat": 4,
 "nbformat_minor": 5
}
