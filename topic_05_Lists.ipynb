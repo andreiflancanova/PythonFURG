{
 "cells": [
  {
   "cell_type": "code",
   "execution_count": 1,
   "id": "35e46e15",
   "metadata": {},
   "outputs": [
    {
     "name": "stdout",
     "output_type": "stream",
     "text": [
      "Insert an integer number: 1\n",
      "Insert a float number: 2.5\n",
      "Insert a string: Test\n",
      "[1, 2.5, 'Test']\n"
     ]
    }
   ],
   "source": [
    "infolist = []\n",
    "\n",
    "input_01 = int(input('Insert an integer number: '))\n",
    "infolist.append(input_01)\n",
    "\n",
    "input_02 = float(input('Insert a float number: '))\n",
    "infolist.append(input_02)\n",
    "\n",
    "input_03 = input('Insert a string: ')\n",
    "infolist.append(input_03)\n",
    "\n",
    "print(infolist)"
   ]
  }
 ],
 "metadata": {
  "kernelspec": {
   "display_name": "Python 3 (ipykernel)",
   "language": "python",
   "name": "python3"
  },
  "language_info": {
   "codemirror_mode": {
    "name": "ipython",
    "version": 3
   },
   "file_extension": ".py",
   "mimetype": "text/x-python",
   "name": "python",
   "nbconvert_exporter": "python",
   "pygments_lexer": "ipython3",
   "version": "3.10.7"
  }
 },
 "nbformat": 4,
 "nbformat_minor": 5
}
