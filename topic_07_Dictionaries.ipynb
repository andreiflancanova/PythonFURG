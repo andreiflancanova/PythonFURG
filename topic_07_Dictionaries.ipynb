{
 "cells": [
  {
   "cell_type": "markdown",
   "id": "51b4fa8c",
   "metadata": {},
   "source": [
    "# Tópico 07 - Dicionários"
   ]
  },
  {
   "cell_type": "markdown",
   "id": "ae5ef29b",
   "metadata": {},
   "source": [
    "<div class = \"alert alert-block alert-info\">\n",
    "    <b>\n",
    "         1) Execute as instruções a seguir e observe seu resultado.\n",
    "    </b>             \n",
    "</div>"
   ]
  },
  {
   "cell_type": "code",
   "execution_count": 16,
   "id": "76a58810",
   "metadata": {},
   "outputs": [
    {
     "name": "stdout",
     "output_type": "stream",
     "text": [
      "O dicionário original é {'arroz': 17.3, 'feijão': 12.5, 'carne': 23.9, 'alface': 3.4}\n",
      "O valor original associado a chave \"carne\" é 23.90\n",
      "O valor original associado a chave \"alface\" é 3.40\n",
      "O valor atualizado associado a chave \"carne\" é 25.00\n",
      "O valor atualizado associado a chave \"alface\" é 5.20\n",
      "O dicionário atualizado é {'arroz': 17.3, 'feijão': 12.5, 'carne': 25.0, 'alface': 5.2}\n"
     ]
    }
   ],
   "source": [
    "D={\"arroz\": 17.30, \"feijão\":12.50,\"carne\":23.90,\"alface\":3.40} \n",
    "\n",
    "print(f'O dicionário original é {D}')\n",
    "print(f'O valor original associado a chave \"carne\" é {D[\"carne\"]:.2f}')\n",
    "print(f'O valor original associado a chave \"alface\" é {D[\"alface\"]:.2f}')\n",
    "D[\"carne\"]=25.0 \n",
    "D[\"alface\"]=5.20\n",
    "print(f'O valor atualizado associado a chave \"carne\" é {D[\"carne\"]:.2f}')\n",
    "print(f'O valor atualizado associado a chave \"alface\" é {D[\"alface\"]:.2f}')\n",
    "print(f'O dicionário atualizado é {D}')"
   ]
  },
  {
   "cell_type": "markdown",
   "id": "f30a5348",
   "metadata": {},
   "source": [
    "<div class = \"alert alert-block alert-warning\">\n",
    "<b>\n",
    "O dicionário só pode retornar entradas de chave e valor que tenham sido devidamente cadastradas. Assim sendo, utilizar o comando abaixo irá conduzir a um erro por isso irá conduzir a um erro.:\n",
    "\n",
    "<code>\n",
    "    print(f'{D[\"tomate\"]:.2f}')\n",
    "</code>\n",
    "\n",
    "Isso ocorre porque a chave \"tomate\" não tem nenhum valor associado a ela.\n",
    "</b>             \n",
    "</div>"
   ]
  },
  {
   "cell_type": "markdown",
   "id": "40467645",
   "metadata": {},
   "source": [
    "<div class = \"alert alert-block alert-info\">\n",
    "    <b>\n",
    "         2) Explique o funcionamento do programa a seguir, que utiliza um dicionário D. \n",
    "        O que acontece quando um usuário tenta acessar mas não está cadastrado? \n",
    "        Melhorar o código para contemplar esta situação.\n",
    "    </b>             \n",
    "</div>"
   ]
  },
  {
   "cell_type": "code",
   "execution_count": 38,
   "id": "6d89cfd1",
   "metadata": {
    "scrolled": true
   },
   "outputs": [
    {
     "name": "stdout",
     "output_type": "stream",
     "text": [
      "Usuários cadastrados até o momento: \n",
      "ana12,lucas2019,anonymous,root,Digite o nome de usuário:Andrei\n",
      "Nome de usuário não cadastrado.\n",
      "Deseja cadastrar o nome de usuário \"Andrei\"?\n",
      "1 - Sim\n",
      "2 - Não\n",
      "Digite a opção desejada: 1\n",
      "Digite a senha desejada: andrei123\n",
      "Confirme a senha desejada: andrei123]\n",
      "As senhas não batem. Digite novamente a senha informada acima: andrei123\n",
      "Senha cadastrada com sucesso\n"
     ]
    }
   ],
   "source": [
    "D={\"ana12\": \"1234\", \"lucas2019\":\"minhasenha\",\"anonymous\":\"anonymous\",\"root\":\"abc\"} \n",
    "print(f'Usuários cadastrados até o momento: ')\n",
    "for chave in D.keys():\n",
    "    print(chave,end = ',')\n",
    "nome=input(\"Digite o nome de usuário:\")\n",
    "if (nome in D):\n",
    "    senha=input(\"Digite a senha: \")\n",
    "    if D[nome]==senha:\n",
    "        print(\"Olá, \",nome,\"!\")\n",
    "    else:\n",
    "        print(\"Senha incorreta.\")\n",
    "else:\n",
    "    print('Nome de usuário não cadastrado.')\n",
    "    print(f'Deseja cadastrar o nome de usuário \"{nome}\"?')\n",
    "    print('1 - Sim','2 - Não',sep='\\n')\n",
    "    opcao = int(input(f'Digite a opção desejada: '))\n",
    "\n",
    "    if opcao == 1:\n",
    "        senha = input('Digite a senha desejada: ')\n",
    "        senha_confirmacao = input('Confirme a senha desejada: ')\n",
    "        quant_erros = 0\n",
    "        while senha != senha_confirmacao:\n",
    "            quant_erros = quant_erros + 1\n",
    "            if quant_erros >=3:\n",
    "                print('Operação de cadastro cancelada por excesso de tentativas!')\n",
    "                break\n",
    "            else:\n",
    "                senha_confirmacao = input('As senhas não batem. Digite novamente a senha informada acima: ')\n",
    "        if quant_erros >=3:\n",
    "            pass\n",
    "        else:\n",
    "            D[nome] = senha\n",
    "            print('Senha cadastrada com sucesso')\n",
    "    else:\n",
    "        print('Obrigado por utilizar o sistema')"
   ]
  },
  {
   "cell_type": "markdown",
   "id": "bc231e54",
   "metadata": {},
   "source": [
    "<div class = \"alert alert-block alert-info\">\n",
    "    <b>\n",
    "        3) Dada a tabela a seguir, crie um dicionário que a represente: <br>\n",
    "        Produtos Preço (R$) <br>\n",
    "        Empada  4.50 <br>\n",
    "        Xis 16.50 <br>\n",
    "        Suco 5.00 <br>\n",
    "        Refrigerante  3.50 <br> \n",
    "        Doce  2.00 <br>\n",
    "    </b>             \n",
    "</div>"
   ]
  },
  {
   "cell_type": "code",
   "execution_count": 32,
   "id": "e572edf1",
   "metadata": {},
   "outputs": [
    {
     "name": "stdout",
     "output_type": "stream",
     "text": [
      "{'Empada': '4.50', 'Xis': '16.50', 'Suco': '5.00', 'Refrigerante': '3.50', 'Doce': '2.00'}\n"
     ]
    }
   ],
   "source": [
    "D2={\"Empada\": \"4.50\", \"Xis\":\"16.50\",\"Suco\":\"5.00\",\"Refrigerante\":\"3.50\",\"Doce\":\"2.00\"}\n",
    "print(D2)"
   ]
  },
  {
   "cell_type": "code",
   "execution_count": 37,
   "id": "8e04c8b9",
   "metadata": {},
   "outputs": [
    {
     "name": "stdout",
     "output_type": "stream",
     "text": [
      "Sistema de Cadastro de Produtos - Mercado Compre Bem XPTO\n",
      "Informe o número de produtos que você deseja cadastrar: 10\n",
      "Informe o nome do produto 1: Abacaxi\n",
      "Informe o preço do produto 1: R$4.39\n",
      "Informe o nome do produto 2: Banana\n",
      "Informe o preço do produto 2: R$3.59\n",
      "Informe o nome do produto 3: Maçã\n",
      "Informe o preço do produto 3: R$4.29\n",
      "Informe o nome do produto 4: Mamão\n",
      "Informe o preço do produto 4: R$8.59\n",
      "Informe o nome do produto 5: Manga\n",
      "Informe o preço do produto 5: R$6.39\n",
      "Informe o nome do produto 6: Alface\n",
      "Informe o preço do produto 6: R$2.59\n",
      "Informe o nome do produto 7: Tomate\n",
      "Informe o preço do produto 7: R$5.49\n",
      "Informe o nome do produto 8: Brócolis\n",
      "Informe o preço do produto 8: R$4.19\n",
      "Informe o nome do produto 9: Cenoura\n",
      "Informe o preço do produto 9: R$6.19\n",
      "Informe o nome do produto 10: Beterraba\n",
      "Informe o preço do produto 10: R$7.29\n",
      "{'Abacaxi': 4.39, 'Banana': 3.59, 'Maçã': 4.29, 'Mamão': 8.59, 'Manga': 6.39, 'Alface': 2.59, 'Tomate': 5.49, 'Brócolis': 4.19, 'Cenoura': 6.19, 'Beterraba': 7.29}\n"
     ]
    }
   ],
   "source": [
    "print('Sistema de Cadastro de Produtos - Mercado Compre Bem XPTO')\n",
    "produtos = {}\n",
    "quant_produtos = int(input('Informe o número de produtos que você deseja cadastrar: '))\n",
    "\n",
    "for num_produto in range(quant_produtos):\n",
    "    nome_produto = input(f'Informe o nome do produto {num_produto+1}: ')\n",
    "    preco_produto = float(input(f'Informe o preço do produto {num_produto+1}: R$'))\n",
    "    produtos[nome_produto] = preco_produto\n",
    "print(produtos)   "
   ]
  }
 ],
 "metadata": {
  "kernelspec": {
   "display_name": "Python 3 (ipykernel)",
   "language": "python",
   "name": "python3"
  },
  "language_info": {
   "codemirror_mode": {
    "name": "ipython",
    "version": 3
   },
   "file_extension": ".py",
   "mimetype": "text/x-python",
   "name": "python",
   "nbconvert_exporter": "python",
   "pygments_lexer": "ipython3",
   "version": "3.10.8"
  }
 },
 "nbformat": 4,
 "nbformat_minor": 5
}
