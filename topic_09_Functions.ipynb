{
 "cells": [
  {
   "cell_type": "markdown",
   "id": "51b4fa8c",
   "metadata": {},
   "source": [
    "# Tópico 09 - Função"
   ]
  },
  {
   "cell_type": "markdown",
   "id": "ae5ef29b",
   "metadata": {},
   "source": [
    "<div class = \"alert alert-block alert-info\">\n",
    "    <b>\n",
    "        1) Escreva uma função que calcule o valor médio de uma lista de números.\n",
    "    </b>             \n",
    "</div>"
   ]
  },
  {
   "cell_type": "code",
   "execution_count": 6,
   "id": "76a58810",
   "metadata": {},
   "outputs": [
    {
     "name": "stdout",
     "output_type": "stream",
     "text": [
      "A lista de números é [94, 96, 67, 94, 83, 14, 73, 97, 60, 28]\n",
      "A média dos 10 valores informados é 70.60.\n"
     ]
    }
   ],
   "source": [
    "import random as r\n",
    "def calcular_media(quant_num,lim_inf,lim_sup):\n",
    "    valores = []\n",
    "    for i in range(quant_num):\n",
    "        num = r.randint(lim_inf,lim_sup)\n",
    "        valores.append(num)\n",
    "    print(f'A lista de números é {valores}')\n",
    "    media_valores = sum(valores)/len(valores)\n",
    "    print(f'A média dos {quant_num} valores informados é {media_valores:.2f}.')\n",
    "calcular_media(10,10,100)"
   ]
  },
  {
   "cell_type": "markdown",
   "id": "2c021408",
   "metadata": {},
   "source": [
    "<div class = \"alert alert-block alert-info\">\n",
    "    <b>\n",
    "       2) Escreva uma função que receba dois números inteiros \"a\",\"b\" e verifique se \"a\" é divisível por \"b\". Retornar verdadeiro caso sejam divisíveis, e falso em caso contrário.\n",
    "    </b>             \n",
    "</div>"
   ]
  },
  {
   "cell_type": "code",
   "execution_count": 23,
   "id": "d06018df",
   "metadata": {},
   "outputs": [
    {
     "name": "stdout",
     "output_type": "stream",
     "text": [
      "Caso 1\n",
      "a = 627 e b = 11\n",
      "O número 627 é divisível por 11. Indicador Booleano: True\n",
      "Caso 2\n",
      "a = 541 e b = 5\n",
      "O número 541 não é divisível por 5. Indicador Booleano: False\n",
      "Caso 3\n",
      "a = 248 e b = 3\n",
      "O número 248 não é divisível por 3. Indicador Booleano: False\n",
      "Caso 4\n",
      "a = 762 e b = 9\n",
      "O número 762 não é divisível por 9. Indicador Booleano: False\n",
      "Caso 5\n",
      "a = 383 e b = 8\n",
      "O número 383 não é divisível por 8. Indicador Booleano: False\n",
      "Caso 6\n",
      "a = 934 e b = 13\n",
      "O número 934 não é divisível por 13. Indicador Booleano: False\n",
      "Caso 7\n",
      "a = 646 e b = 19\n",
      "O número 646 é divisível por 19. Indicador Booleano: True\n",
      "Caso 8\n",
      "a = 795 e b = 4\n",
      "O número 795 não é divisível por 4. Indicador Booleano: False\n",
      "Caso 9\n",
      "a = 692 e b = 8\n",
      "O número 692 não é divisível por 8. Indicador Booleano: False\n",
      "Caso 10\n",
      "a = 816 e b = 9\n",
      "O número 816 não é divisível por 9. Indicador Booleano: False\n"
     ]
    }
   ],
   "source": [
    "import random as r\n",
    "def verifica_divisibilidade():\n",
    "    a = r.randint(1,1000)\n",
    "    b = r.randint(1,20)\n",
    "    print(f'a = {a} e b = {b}')\n",
    "    if a%b == 0:\n",
    "        resposta = True\n",
    "        print(f'O número {a} é divisível por {b}. Indicador Booleano: {resposta}')\n",
    "    else:\n",
    "        resposta = False\n",
    "        print(f'O número {a} não é divisível por {b}. Indicador Booleano: {resposta}')\n",
    "for i in range (10):\n",
    "    print(f'Caso {i+1}')\n",
    "    verifica_divisibilidade()"
   ]
  },
  {
   "cell_type": "markdown",
   "id": "17844fc5",
   "metadata": {},
   "source": [
    "<div class = \"alert alert-block alert-info\">\n",
    "    <b>\n",
    "        3) Escreva uma função que receba um número  inteiro \"a\" e retorne uma lista com todos os divisores de \"a\". Exemplo: os divisores de 12 são 12,6,4,3,2 e 1. Exemplo de uso: print(divisores(x)).\n",
    "    </b>             \n",
    "</div>"
   ]
  },
  {
   "cell_type": "code",
   "execution_count": 38,
   "id": "5692e21d",
   "metadata": {},
   "outputs": [
    {
     "name": "stdout",
     "output_type": "stream",
     "text": [
      "Os divisores de 5918 são : \n"
     ]
    },
    {
     "data": {
      "text/plain": [
       "[1, 2, 11, 22, 269, 538, 2959, 5918]"
      ]
     },
     "execution_count": 38,
     "metadata": {},
     "output_type": "execute_result"
    }
   ],
   "source": [
    "from math import sqrt\n",
    "import random as r\n",
    "\n",
    "def divisores(a):\n",
    "    lista_divisores = [1]\n",
    "    for i in range(2, int(sqrt(a)) + 1):\n",
    "        if a % i == 0:\n",
    "            #Divisor --> a dividido por i dá zero\n",
    "            lista_divisores.append(i)\n",
    "            # Quando se acha um divisor, geralmente o número original dividido por esse divisor também é um divisor\n",
    "            divisor_multiplo = a // i\n",
    "            #Quando o resultado da divisão acima dá o próprio i, significa que o mesmo i pode acabar sendo contado duas vezes.\n",
    "            #Por conta disso, se faz o if a seguir:\n",
    "            if divisor_multiplo != i: \n",
    "                lista_divisores.append(divisor_multiplo)\n",
    "    # Um número é sempre divisor de si mesmo.\n",
    "    lista_divisores.append(a)\n",
    "    lista_divisores = sorted(lista_divisores)\n",
    "    return lista_divisores\n",
    "\n",
    "a = r.randint(10,10000)\n",
    "print(f'Os divisores de {a} são : ',sep = '')\n",
    "divisores(a)"
   ]
  },
  {
   "cell_type": "markdown",
   "id": "8433175a",
   "metadata": {},
   "source": [
    "<div class = \"alert alert-block alert-info\">\n",
    "    <b>\n",
    "        4) Escreva uma função que testa se um número \"a\" dado é primo. Deve retornar verdadeiro apenas se \"a\" for primo, e falso caso contrário. Exemplo de uso: if (x>0 and primo(x)): \n",
    "    </b>             \n",
    "</div>"
   ]
  },
  {
   "cell_type": "code",
   "execution_count": 58,
   "id": "acb5b1b6",
   "metadata": {},
   "outputs": [
    {
     "name": "stdout",
     "output_type": "stream",
     "text": [
      "A lista de divisores de 4391 é [1, 4391]\n",
      "O número 4391 é primo. Indicador Booleano: True\n",
      "A lista de divisores de 3663 é [1, 3, 9, 11, 33, 37, 99, 111, 333, 407, 1221, 3663]\n",
      "O número 3663 não é primo. Indicador Booleano: False\n",
      "A lista de divisores de 7603 é [1, 7603]\n",
      "O número 7603 é primo. Indicador Booleano: True\n",
      "A lista de divisores de 9219 é [1, 3, 7, 21, 439, 1317, 3073, 9219]\n",
      "O número 9219 não é primo. Indicador Booleano: False\n",
      "A lista de divisores de 605 é [1, 5, 11, 55, 121, 605]\n",
      "O número 605 não é primo. Indicador Booleano: False\n",
      "A lista de divisores de 2689 é [1, 2689]\n",
      "O número 2689 é primo. Indicador Booleano: True\n",
      "A lista de divisores de 256 é [1, 2, 4, 8, 16, 32, 64, 128, 256]\n",
      "O número 256 não é primo. Indicador Booleano: False\n",
      "A lista de divisores de 5273 é [1, 5273]\n",
      "O número 5273 é primo. Indicador Booleano: True\n",
      "A lista de divisores de 3769 é [1, 3769]\n",
      "O número 3769 é primo. Indicador Booleano: True\n",
      "A lista de divisores de 2039 é [1, 2039]\n",
      "O número 2039 é primo. Indicador Booleano: True\n"
     ]
    }
   ],
   "source": [
    "def primo(a):\n",
    "    print(f'A lista de divisores de {a} é {divisores(a)}')\n",
    "    num_divisores = len(divisores(a))\n",
    "    if num_divisores == 2:\n",
    "        resposta = True     \n",
    "        print(f'O número {a} é primo. Indicador Booleano: {resposta}')\n",
    "    else:\n",
    "        resposta = False \n",
    "        print(f'O número {a} não é primo. Indicador Booleano: {resposta}')\n",
    "for i in range(10):\n",
    "    a = r.randint(10,10000)\n",
    "    primo(a)"
   ]
  }
 ],
 "metadata": {
  "kernelspec": {
   "display_name": "Python 3 (ipykernel)",
   "language": "python",
   "name": "python3"
  },
  "language_info": {
   "codemirror_mode": {
    "name": "ipython",
    "version": 3
   },
   "file_extension": ".py",
   "mimetype": "text/x-python",
   "name": "python",
   "nbconvert_exporter": "python",
   "pygments_lexer": "ipython3",
   "version": "3.10.8"
  }
 },
 "nbformat": 4,
 "nbformat_minor": 5
}
